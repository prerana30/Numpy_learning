{
 "cells": [
  {
   "attachments": {},
   "cell_type": "markdown",
   "metadata": {},
   "source": [
    "1. To change 2D array to 3D array and 4D array.\n",
    "2. To convert 3D array to 4D array.\n",
    "3. To use attribute like .shape and methods like .reshape() and .flatten()"
   ]
  }
 ],
 "metadata": {
  "language_info": {
   "name": "python"
  },
  "orig_nbformat": 4
 },
 "nbformat": 4,
 "nbformat_minor": 2
}
